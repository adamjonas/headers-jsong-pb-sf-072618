{
 "cells": [
  {
   "cell_type": "code",
   "execution_count": 1,
   "metadata": {},
   "outputs": [],
   "source": [
    "# import everything and define a test runner function\n",
    "from importlib import reload\n",
    "from math import ceil, log\n",
    "\n",
    "import block, helper, network\n",
    "\n",
    "from block import (\n",
    "    Block,\n",
    "    GENESIS_BLOCK_HASH,\n",
    "    TESTNET_GENESIS_BLOCK_HASH,\n",
    ")\n",
    "from helper import (\n",
    "    hash256,\n",
    "    merkle_parent,\n",
    "    merkle_parent_level,\n",
    "    merkle_root,\n",
    "    read_varint,\n",
    "    run,\n",
    ")\n",
    "from merkleblock import MerkleTree\n",
    "from network import (\n",
    "    GetDataMessage,\n",
    "    GetHeadersMessage,\n",
    "    HeadersMessage,\n",
    "    SimpleNode,\n",
    "    VersionMessage,\n",
    "    BLOCK_DATA_TYPE,\n",
    ")\n",
    "from tx import Tx"
   ]
  },
  {
   "cell_type": "markdown",
   "metadata": {},
   "source": [
    "### Exercise 1\n",
    "\n",
    "#### Check the cheat sheet for the network message structure.\n",
    "\n",
    "#### 1.1. Parse this message\n",
    "```\n",
    "f9beb4d976657261636b000000000000000000005df6e0e2\n",
    "```\n",
    "\n",
    "#### 1.2. Make [these tests](/edit/session7/network.py) pass.\n",
    "```\n",
    "network.py:NetworkTest:test_parse\n",
    "network.py:NetworkTest:test_serialize\n",
    "```"
   ]
  },
  {
   "cell_type": "code",
   "execution_count": 2,
   "metadata": {},
   "outputs": [
    {
     "name": "stdout",
     "output_type": "stream",
     "text": [
      "b'verack\\x00\\x00\\x00\\x00\\x00\\x00'\n"
     ]
    }
   ],
   "source": [
    "# Exercise 1.1\n",
    "\n",
    "msg = bytes.fromhex('f9beb4d976657261636b000000000000000000005df6e0e2')\n",
    "\n",
    "# first 4 are network magic\n",
    "magic = msg[:4]\n",
    "# next 12 are command\n",
    "command = msg[4:16]\n",
    "# next 4 are payload length\n",
    "payload_length = msg[16:20]\n",
    "# next 4 are checksum\n",
    "checksum = msg[20:24]\n",
    "# rest is payload\n",
    "payload = msg[24:]\n",
    "print(command)"
   ]
  },
  {
   "cell_type": "code",
   "execution_count": 3,
   "metadata": {},
   "outputs": [
    {
     "name": "stderr",
     "output_type": "stream",
     "text": [
      ".\n",
      "----------------------------------------------------------------------\n",
      "Ran 1 test in 0.001s\n",
      "\n",
      "OK\n",
      ".\n",
      "----------------------------------------------------------------------\n",
      "Ran 1 test in 0.000s\n",
      "\n",
      "OK\n"
     ]
    }
   ],
   "source": [
    "# Exercise 1.2\n",
    "\n",
    "reload(network)\n",
    "run(network.NetworkEnvelopeTest('test_parse'))\n",
    "run(network.NetworkEnvelopeTest('test_serialize'))"
   ]
  },
  {
   "cell_type": "markdown",
   "metadata": {},
   "source": [
    "### Exercise 2\n",
    "\n",
    "#### 2.1. Make [this test](/edit/session7/network.py) pass.\n",
    "```\n",
    "network.py:VersionMessageTest:test_serialize\n",
    "```"
   ]
  },
  {
   "cell_type": "code",
   "execution_count": 4,
   "metadata": {},
   "outputs": [
    {
     "name": "stderr",
     "output_type": "stream",
     "text": [
      ".\n",
      "----------------------------------------------------------------------\n",
      "Ran 1 test in 0.001s\n",
      "\n",
      "OK\n"
     ]
    }
   ],
   "source": [
    "# Exercise 2.1\n",
    "\n",
    "reload(network)\n",
    "run(network.VersionMessageTest('test_serialize'))"
   ]
  },
  {
   "cell_type": "markdown",
   "metadata": {},
   "source": [
    "### Exercise 3\n",
    "\n",
    "#### 3.1. Make [this test](/edit/session7/network.py) pass.\n",
    "```\n",
    "network.py:GetHeadersMessageTest:test_serialize\n",
    "```\n",
    "\n",
    "#### 3.2. Make [this test](/edit/session7/network.py) pass.\n",
    "```\n",
    "network.py:HeadersMessageTest:test_parse\n",
    "```"
   ]
  },
  {
   "cell_type": "code",
   "execution_count": 5,
   "metadata": {},
   "outputs": [
    {
     "name": "stderr",
     "output_type": "stream",
     "text": [
      ".\n",
      "----------------------------------------------------------------------\n",
      "Ran 1 test in 0.001s\n",
      "\n",
      "OK\n"
     ]
    }
   ],
   "source": [
    "# Exercise 3.1\n",
    "\n",
    "reload(network)\n",
    "run(network.GetHeadersMessageTest('test_serialize'))"
   ]
  },
  {
   "cell_type": "code",
   "execution_count": 6,
   "metadata": {},
   "outputs": [
    {
     "name": "stderr",
     "output_type": "stream",
     "text": [
      ".\n",
      "----------------------------------------------------------------------\n",
      "Ran 1 test in 0.001s\n",
      "\n",
      "OK\n"
     ]
    }
   ],
   "source": [
    "# Exercise 3.2\n",
    "\n",
    "reload(network)\n",
    "run(network.HeadersMessageTest('test_parse'))"
   ]
  },
  {
   "cell_type": "code",
   "execution_count": 7,
   "metadata": {},
   "outputs": [
    {
     "name": "stdout",
     "output_type": "stream",
     "text": [
      "sending: version: 7f110100000000000000000032e1e95b00000000000000000000000000000000000000000000ffff000000008d20000000000000000000000000000000000000ffff000000008d20c26083c5b59f50881b2f70726f6772616d6d696e67626c6f636b636861696e3a302e312f0000000001\n",
      "receiving: version: 7f1101000d0400000000000032e1e95b00000000000000000000000000000000000000000000ffff4830fd33ddff0d040000000000000000000000000000000000000000000000001587f2d35309372e102f5361746f7368693a302e31372e302f6005160001\n",
      "sending: verack: \n",
      "receiving: verack: \n",
      "verack: \n"
     ]
    }
   ],
   "source": [
    "# Handshake Example\n",
    "\n",
    "from network import SimpleNode, VersionMessage\n",
    "\n",
    "node = SimpleNode('tbtc.programmingblockchain.com', testnet=True, logging=True)\n",
    "\n",
    "version = VersionMessage()\n",
    "node.send(version.command, version.serialize())\n",
    "print(node.wait_for_commands([b'verack']))"
   ]
  },
  {
   "cell_type": "markdown",
   "metadata": {},
   "source": [
    "### Exercise 4\n",
    "\n",
    "#### 4.1. Make [this test](/edit/session7/network.py) pass.\n",
    "```\n",
    "network.py:SimpleNodeTest:test_handshake\n",
    "```"
   ]
  },
  {
   "cell_type": "code",
   "execution_count": 8,
   "metadata": {},
   "outputs": [
    {
     "name": "stderr",
     "output_type": "stream",
     "text": [
      ".\n",
      "----------------------------------------------------------------------\n",
      "Ran 1 test in 0.087s\n",
      "\n",
      "OK\n"
     ]
    }
   ],
   "source": [
    "# Exercise 4.1\n",
    "\n",
    "reload(network)\n",
    "run(network.SimpleNodeTest('test_handshake'))"
   ]
  },
  {
   "cell_type": "code",
   "execution_count": 9,
   "metadata": {},
   "outputs": [
    {
     "name": "stdout",
     "output_type": "stream",
     "text": [
      "00000000693067b0e6b440bc51450b9f3850561b07f6d3c021c54fbd6abb9763\n",
      "00000000f037ad09d0b05ee66b8c1da83030abaf909d2b1bf519c3c7d2cd3fdf\n",
      "000000006ce8b5f16fcedde13acbc9641baa1c67734f177d770a4069c06c9de8\n",
      "00000000563298de120522b5ae17da21aaae02eee2d7fcb5be65d9224dbd601c\n",
      "000000009b0a4b2833b4a0aa61171ee75b8eb301ac45a18713795a72e461a946\n",
      "00000000fa8a7363e8f6fdc88ec55edf264c9c7b31268c26e497a4587c750584\n",
      "000000008ac55b5cd76a5c176f2457f0e9df5ff1c719d939f1022712b1ba2092\n",
      "000000007f0c796631f00f542c0b402d638d3518bc208f8c9e5d29d2f169c084\n",
      "00000000ffb062296c9d4eb5f87bbf905d30669d26eab6bced341bd3f1dba5fd\n",
      "0000000074c108842c3ec2252bba62db4050bf0dddfee3ddaa5f847076b8822f\n",
      "0000000067dc2f84a73fbf5d3c70678ce4a1496ef3a62c557bc79cbdd1d49f22\n",
      "00000000dbf06f47c0624262ecb197bccf6bdaaabc2d973708ac401ac8955acc\n",
      "000000009260fe30ec89ef367122f429dcc59f61735760f2b2288f2e854f04ac\n",
      "00000000f9f1a700898c4e0671af6efd441eaf339ba075a5c5c7b0949473c80b\n",
      "000000005107662c86452e7365f32f8ffdc70d8d87aa6f78630a79f7d77fbfe6\n",
      "00000000984f962134a7291e3693075ae03e521f0ee33378ec30a334d860034b\n",
      "000000005e36047e39452a7beaaa6721048ac408a3e75bb60a8b0008713653ce\n",
      "00000000128d789579ffbec00203a371cbb39cee27df35d951fd66e62ed59258\n",
      "000000008dde642fb80481bb5e1671cb04c6716de5b7f783aa3388456d5c8a85\n"
     ]
    }
   ],
   "source": [
    "# Block Header Download Example\n",
    "\n",
    "from network import GetHeadersMessage, HeadersMessage, SimpleNode\n",
    "\n",
    "node = SimpleNode('btc.programmingblockchain.com', testnet=False)\n",
    "node.handshake()\n",
    "last_block_hash = GENESIS_BLOCK_HASH\n",
    "count = 1\n",
    "for _ in range(20):\n",
    "    getheaders = GetHeadersMessage(start_block=last_block_hash)\n",
    "    node.send(getheaders.command, getheaders.serialize())\n",
    "    headers_envelope = node.wait_for_commands([b'headers'])\n",
    "    headers_message = HeadersMessage.parse(headers_envelope.stream())\n",
    "    for b in headers_message.blocks:\n",
    "        if not b.check_pow():\n",
    "            raise RuntimeError('bad proof of work at block {}'.format(count))\n",
    "        if last_block_hash != GENESIS_BLOCK_HASH and b.prev_block != last_block_hash:\n",
    "            raise RuntimeError('discontinuous block at {}'.format(count))\n",
    "        count += 1\n",
    "        last_block_hash = b.hash()\n",
    "        if count % 2016 == 0:\n",
    "            print(b.id())"
   ]
  },
  {
   "cell_type": "markdown",
   "metadata": {},
   "source": [
    "### Exercise 5\n",
    "\n",
    "#### 5.1. Download the first 40,000 blocks for testnet and validate them.\n"
   ]
  },
  {
   "cell_type": "code",
   "execution_count": 10,
   "metadata": {},
   "outputs": [
    {
     "name": "stdout",
     "output_type": "stream",
     "text": [
      "00000000864b744c5025331036aa4a16e9ed1cbb362908c625272150fa059b29\n",
      "000000002e9ccffc999166ccf8d72129e1b2e9c754f6c90ad2f77cab0d9fb4c7\n",
      "0000000009b9f0436a9c733e2c9a9d9c8fe3475d383bdc1beb7bfa995f90be70\n",
      "000000000a9c9c79f246042b9e2819822287f2be7cd6487aecf7afab6a88bed5\n",
      "000000003a7002e1247b0008cba36cd46f57cd7ce56ac9d9dc5644265064df09\n",
      "00000000061e01e82afff6e7aaea4eb841b78cc0eed3af11f6706b14471fa9c8\n",
      "000000003911e011ae2459e44d4581ac69ba703fb26e1421529bd326c538f12d\n",
      "000000000a5984d6c73396fe40de392935f5fc2a8e48eedf38034ce0a3178a60\n",
      "000000000786bdc642fa54c0a791d58b732ed5676516fffaeca04492be97c243\n",
      "000000001359c49f9618f3ee69afbd1b3196f1832acc47557d42256fcc6b7f48\n",
      "00000000270dde98d582af35dff5aed02087dad8529dc5c808c67573d6dabaf4\n",
      "00000000425c160908c215c4adf998771a2d1c472051bc58320696f3a5eb0644\n",
      "0000000006a5976471986377805d4a148d8822bb7f458138c83f167d197817c9\n",
      "000000000318394ea17038ef369f3cccc79b3d7dfda957af6c8cd4a471ffa814\n",
      "000000000ad4f9d0b8e86871478cc849f7bc42fb108ebec50e4a795afc284926\n",
      "000000000207e63e68f2a7a4c067135883d726fd65e3620142fb9bdf50cce1f6\n",
      "00000000003b426d2c12ee66b2eedb4dcc05d5e158685b222240d31e43687762\n",
      "00000000017cf6ee86e3d483f9a978ded72be1fa5af37d287a71c5dfb87cdd83\n",
      "00000000004b1d9fe16fc0c72cfa0395c98a3e460cd2affb8640e28bca295a4a\n"
     ]
    }
   ],
   "source": [
    "# Exercise 5.1\n",
    "\n",
    "# connect to tbtc.programmingblockchain.com\n",
    "node = SimpleNode('tbtc.programmingblockchain.com', testnet=True)\n",
    "# handshake\n",
    "node.handshake()\n",
    "# set the last block hash to the TESTNET_GENESIS_BLOCK_HASH\n",
    "last_block_hash = TESTNET_GENESIS_BLOCK_HASH\n",
    "# set the block count to 1\n",
    "count = 1\n",
    "# loop until we we get 40,000 blocks\n",
    "while count <= 40000:\n",
    "    # create a GetHeadersMessage starting from the last block we have\n",
    "    getheaders = GetHeadersMessage(start_block=last_block_hash)\n",
    "    # send the getheaders command\n",
    "    node.send(getheaders.command, getheaders.serialize())\n",
    "    # wait for the headers command in response\n",
    "    headers_envelope = node.wait_for_commands([b'headers'])\n",
    "    # parse the network envelope that comes back\n",
    "    headers_message = HeadersMessage.parse(headers_envelope.stream())\n",
    "    # loop through the blocks from the headers message\n",
    "    for b in headers_message.blocks:\n",
    "        # check the proof of work\n",
    "        if not b.check_pow():\n",
    "            raise RuntimeError('bad proof of work at block {}'.format(count))\n",
    "        # the prev_block of the current block should be the last block\n",
    "        if last_block_hash != TESTNET_GENESIS_BLOCK_HASH and b.prev_block != last_block_hash:\n",
    "            raise RuntimeError('discontinuous block at {}'.format(count))\n",
    "        # increment the block count\n",
    "        count += 1\n",
    "        # set the last block hash\n",
    "        last_block_hash = b.hash()\n",
    "        # print the block header every 2016 blocks (difficulty adjustment)\n",
    "        if count % 2016 == 0:\n",
    "            print(b.id())"
   ]
  },
  {
   "cell_type": "code",
   "execution_count": 11,
   "metadata": {},
   "outputs": [
    {
     "name": "stdout",
     "output_type": "stream",
     "text": [
      "8b30c5ba100f6f2e5ad1e2a742e5020491240f8eb514fe97c713c31718ad7ecd\n"
     ]
    }
   ],
   "source": [
    "# Merkle Parent Example\n",
    "\n",
    "tx_hash0 = bytes.fromhex('c117ea8ec828342f4dfb0ad6bd140e03a50720ece40169ee38bdc15d9eb64cf5')\n",
    "tx_hash1 = bytes.fromhex('c131474164b412e3406696da1ee20ab0fc9bf41c8f05fa8ceea7a08d672d7cc5')\n",
    "\n",
    "parent = hash256(tx_hash0+tx_hash1)\n",
    "print(parent.hex())"
   ]
  },
  {
   "cell_type": "markdown",
   "metadata": {},
   "source": [
    "### Exercise 6\n",
    "\n",
    "#### 6.1. Calculate the Merkle parent of these hashes:\n",
    "```\n",
    "f391da6ecfeed1814efae39e7fcb3838ae0b02c02ae7d0a5848a66947c0727b0\n",
    "3d238a92a94532b946c90e19c49351c763696cff3db400485b813aecb8a13181\n",
    "```\n",
    "\n",
    "#### 6.2. Make [this test](/edit/session7/helper.py) pass\n",
    "```\n",
    "helper.py:HelperTest:test_merkle_parent\n",
    "```"
   ]
  },
  {
   "cell_type": "code",
   "execution_count": 12,
   "metadata": {},
   "outputs": [
    {
     "name": "stdout",
     "output_type": "stream",
     "text": [
      "7f4e6f9e224e20fda0ae4c44114237f97cd35aca38d83081c9bfd41feb907800\n"
     ]
    }
   ],
   "source": [
    "# Exercise 6.1\n",
    "\n",
    "hex_hash1 = 'f391da6ecfeed1814efae39e7fcb3838ae0b02c02ae7d0a5848a66947c0727b0'\n",
    "hex_hash2 = '3d238a92a94532b946c90e19c49351c763696cff3db400485b813aecb8a13181'\n",
    "\n",
    "# bytes.fromhex to get the bin hashes\n",
    "hash1 = bytes.fromhex(hex_hash1)\n",
    "hash2 = bytes.fromhex(hex_hash2)\n",
    "# hash256 the combination\n",
    "parent = hash256(hash1+hash2)\n",
    "# hex() to see the result\n",
    "print(parent.hex())"
   ]
  },
  {
   "cell_type": "code",
   "execution_count": 13,
   "metadata": {},
   "outputs": [
    {
     "name": "stderr",
     "output_type": "stream",
     "text": [
      ".\n",
      "----------------------------------------------------------------------\n",
      "Ran 1 test in 0.001s\n",
      "\n",
      "OK\n"
     ]
    }
   ],
   "source": [
    "# Exercise 6.2\n",
    "\n",
    "reload(helper)\n",
    "run(helper.HelperTest('test_merkle_parent'))"
   ]
  },
  {
   "cell_type": "code",
   "execution_count": 14,
   "metadata": {},
   "outputs": [
    {
     "name": "stdout",
     "output_type": "stream",
     "text": [
      "8b30c5ba100f6f2e5ad1e2a742e5020491240f8eb514fe97c713c31718ad7ecd\n",
      "7f4e6f9e224e20fda0ae4c44114237f97cd35aca38d83081c9bfd41feb907800\n",
      "3ecf6115380c77e8aae56660f5634982ee897351ba906a6837d15ebc3a225df0\n"
     ]
    }
   ],
   "source": [
    "# Merkle Parent Level Example\n",
    "\n",
    "from helper import merkle_parent\n",
    "\n",
    "hex_hashes = [\n",
    "    'c117ea8ec828342f4dfb0ad6bd140e03a50720ece40169ee38bdc15d9eb64cf5',\n",
    "    'c131474164b412e3406696da1ee20ab0fc9bf41c8f05fa8ceea7a08d672d7cc5',\n",
    "    'f391da6ecfeed1814efae39e7fcb3838ae0b02c02ae7d0a5848a66947c0727b0',\n",
    "    '3d238a92a94532b946c90e19c49351c763696cff3db400485b813aecb8a13181',\n",
    "    '10092f2633be5f3ce349bf9ddbde36caa3dd10dfa0ec8106bce23acbff637dae',\n",
    "]\n",
    "hashes = [bytes.fromhex(x) for x in hex_hashes]\n",
    "if len(hashes) % 2 == 1:\n",
    "    hashes.append(hashes[-1])\n",
    "parent_level = []\n",
    "for i in range(0, len(hex_hashes), 2):\n",
    "    parent = merkle_parent(hashes[i], hashes[i+1])\n",
    "    print(parent.hex())\n",
    "    parent_level.append(parent)"
   ]
  },
  {
   "cell_type": "markdown",
   "metadata": {},
   "source": [
    "### Exercise 7\n",
    "\n",
    "#### 7.1. Calculate the next Merkle Parent Level given these hashes\n",
    "```\n",
    "8b30c5ba100f6f2e5ad1e2a742e5020491240f8eb514fe97c713c31718ad7ecd\n",
    "7f4e6f9e224e20fda0ae4c44114237f97cd35aca38d83081c9bfd41feb907800\n",
    "ade48f2bbb57318cc79f3a8678febaa827599c509dce5940602e54c7733332e7\n",
    "68b3e2ab8182dfd646f13fdf01c335cf32476482d963f5cd94e934e6b3401069\n",
    "43e7274e77fbe8e5a42a8fb58f7decdb04d521f319f332d88e6b06f8e6c09e27\n",
    "```\n",
    "\n",
    "#### 7.2. Make [this test](/edit/session7/helper.py) pass.\n",
    "```\n",
    "helper.py:HelperTest:test_merkle_parent_level\n",
    "```"
   ]
  },
  {
   "cell_type": "code",
   "execution_count": 15,
   "metadata": {},
   "outputs": [
    {
     "name": "stdout",
     "output_type": "stream",
     "text": [
      "26906cb2caeb03626102f7606ea332784281d5d20e2b4839fbb3dbb37262dbc1\n",
      "717a0d17538ff5ad2c020bab38bdcde66e63f3daef88f89095f344918d5d4f96\n",
      "d6c56a5281021a587f5a1e0dd4674bff012c69d960136d96e6d72261d5b696ae\n"
     ]
    }
   ],
   "source": [
    "# Exercise 7.1\n",
    "\n",
    "hex_hashes = [\n",
    "    '8b30c5ba100f6f2e5ad1e2a742e5020491240f8eb514fe97c713c31718ad7ecd',\n",
    "    '7f4e6f9e224e20fda0ae4c44114237f97cd35aca38d83081c9bfd41feb907800',\n",
    "    'ade48f2bbb57318cc79f3a8678febaa827599c509dce5940602e54c7733332e7',\n",
    "    '68b3e2ab8182dfd646f13fdf01c335cf32476482d963f5cd94e934e6b3401069',\n",
    "    '43e7274e77fbe8e5a42a8fb58f7decdb04d521f319f332d88e6b06f8e6c09e27',\n",
    "]\n",
    "\n",
    "# bytes.fromhex to get all the hashes in binary\n",
    "hashes = [bytes.fromhex(h) for h in hex_hashes]\n",
    "# if the number of hashes is odd, duplicate the last one\n",
    "if len(hashes) % 2 == 1:\n",
    "    hashes.append(hashes[-1])\n",
    "# initialize parent level\n",
    "parent_level = []\n",
    "# skip by two: use range(0, len(hashes), 2)\n",
    "for i in range(0, len(hashes), 2):\n",
    "    # calculate merkle_parent of i and i+1 hashes\n",
    "    parent = merkle_parent(hashes[i], hashes[i+1])\n",
    "    # print the hash's hex\n",
    "    print(parent.hex())\n",
    "    # add parent to parent level\n",
    "    parent_level.append(parent)"
   ]
  },
  {
   "cell_type": "code",
   "execution_count": 16,
   "metadata": {},
   "outputs": [
    {
     "name": "stderr",
     "output_type": "stream",
     "text": [
      ".\n",
      "----------------------------------------------------------------------\n",
      "Ran 1 test in 0.001s\n",
      "\n",
      "OK\n"
     ]
    }
   ],
   "source": [
    "# Exercise 7.2\n",
    "\n",
    "reload(helper)\n",
    "run(helper.HelperTest('test_merkle_parent_level'))"
   ]
  },
  {
   "cell_type": "code",
   "execution_count": 17,
   "metadata": {},
   "outputs": [
    {
     "name": "stdout",
     "output_type": "stream",
     "text": [
      "acbcab8bcc1af95d8d563b77d24c3d19b18f1486383d75a5085c4e86c86beed6\n"
     ]
    }
   ],
   "source": [
    "# Merkle Root Example\n",
    "\n",
    "from helper import merkle_parent_level\n",
    "\n",
    "hex_hashes = [\n",
    "    'c117ea8ec828342f4dfb0ad6bd140e03a50720ece40169ee38bdc15d9eb64cf5',\n",
    "    'c131474164b412e3406696da1ee20ab0fc9bf41c8f05fa8ceea7a08d672d7cc5',\n",
    "    'f391da6ecfeed1814efae39e7fcb3838ae0b02c02ae7d0a5848a66947c0727b0',\n",
    "    '3d238a92a94532b946c90e19c49351c763696cff3db400485b813aecb8a13181',\n",
    "    '10092f2633be5f3ce349bf9ddbde36caa3dd10dfa0ec8106bce23acbff637dae',\n",
    "    '7d37b3d54fa6a64869084bfd2e831309118b9e833610e6228adacdbd1b4ba161',\n",
    "    '8118a77e542892fe15ae3fc771a4abfd2f5d5d5997544c3487ac36b5c85170fc',\n",
    "    'dff6879848c2c9b62fe652720b8df5272093acfaa45a43cdb3696fe2466a3877',\n",
    "    'b825c0745f46ac58f7d3759e6dc535a1fec7820377f24d4c2c6ad2cc55c0cb59',\n",
    "    '95513952a04bd8992721e9b7e2937f1c04ba31e0469fbe615a78197f68f52b7c',\n",
    "    '2e6d722e5e4dbdf2447ddecc9f7dabb8e299bae921c99ad5b0184cd9eb8e5908',\n",
    "    'b13a750047bc0bdceb2473e5fe488c2596d7a7124b4e716fdd29b046ef99bbf0',\n",
    "]\n",
    "\n",
    "current_level = [bytes.fromhex(x) for x in hex_hashes]\n",
    "while len(current_level) > 1:\n",
    "    current_level = merkle_parent_level(current_level)\n",
    "print(current_level[0].hex())"
   ]
  },
  {
   "cell_type": "markdown",
   "metadata": {},
   "source": [
    "### Exercise 8\n",
    "\n",
    "#### 8.1. Calculate the Merkle Root given these hashes\n",
    "```\n",
    "42f6f52f17620653dcc909e58bb352e0bd4bd1381e2955d19c00959a22122b2e\n",
    "94c3af34b9667bf787e1c6a0a009201589755d01d02fe2877cc69b929d2418d4\n",
    "959428d7c48113cb9149d0566bde3d46e98cf028053c522b8fa8f735241aa953\n",
    "a9f27b99d5d108dede755710d4a1ffa2c74af70b4ca71726fa57d68454e609a2\n",
    "62af110031e29de1efcad103b3ad4bec7bdcf6cb9c9f4afdd586981795516577\n",
    "766900590ece194667e9da2984018057512887110bf54fe0aa800157aec796ba\n",
    "e8270fb475763bc8d855cfe45ed98060988c1bdcad2ffc8364f783c98999a208\n",
    "921b8cfd3e14bf41f028f0a3aa88c813d5039a2b1bceb12208535b0b43a5d09e\n",
    "15535864799652347cec66cba473f6d8291541238e58b2e03b046bc53cfe1321\n",
    "1c8af7c502971e67096456eac9cd5407aacf62190fc54188995666a30faf99f0\n",
    "3311f8acc57e8a3e9b68e2945fb4f53c07b0fa4668a7e5cda6255c21558c774d\n",
    "```\n",
    "\n",
    "#### 8.2. Make [this test](/edit/session7/helper.py) pass.\n",
    "```\n",
    "helper.py:HelperTest:test_merkle_root\n",
    "```"
   ]
  },
  {
   "cell_type": "code",
   "execution_count": 18,
   "metadata": {},
   "outputs": [
    {
     "name": "stdout",
     "output_type": "stream",
     "text": [
      "a67772634e542799333c6c98bc903e36b652918a8d8a9e069391c55b4276c8a1\n"
     ]
    }
   ],
   "source": [
    "# Exercise 8.1\n",
    "\n",
    "hex_hashes = [\n",
    "    '42f6f52f17620653dcc909e58bb352e0bd4bd1381e2955d19c00959a22122b2e',\n",
    "    '94c3af34b9667bf787e1c6a0a009201589755d01d02fe2877cc69b929d2418d4',\n",
    "    '959428d7c48113cb9149d0566bde3d46e98cf028053c522b8fa8f735241aa953',\n",
    "    'a9f27b99d5d108dede755710d4a1ffa2c74af70b4ca71726fa57d68454e609a2',\n",
    "    '62af110031e29de1efcad103b3ad4bec7bdcf6cb9c9f4afdd586981795516577',\n",
    "    '766900590ece194667e9da2984018057512887110bf54fe0aa800157aec796ba',\n",
    "    'e8270fb475763bc8d855cfe45ed98060988c1bdcad2ffc8364f783c98999a208',\n",
    "    '921b8cfd3e14bf41f028f0a3aa88c813d5039a2b1bceb12208535b0b43a5d09e',\n",
    "    '15535864799652347cec66cba473f6d8291541238e58b2e03b046bc53cfe1321',\n",
    "    '1c8af7c502971e67096456eac9cd5407aacf62190fc54188995666a30faf99f0',\n",
    "    '3311f8acc57e8a3e9b68e2945fb4f53c07b0fa4668a7e5cda6255c21558c774d',\n",
    "]\n",
    "\n",
    "# bytes.fromhex to get all the hashes in binary\n",
    "hashes = [bytes.fromhex(h) for h in hex_hashes]\n",
    "# initialize current level to be the hashes\n",
    "current_level = hashes\n",
    "# loop until current_level has only 1 element\n",
    "while len(current_level) > 1:\n",
    "    # make the current level the parent level\n",
    "    current_level = merkle_parent_level(current_level)\n",
    "# print the root's hex\n",
    "print(current_level[0].hex())"
   ]
  },
  {
   "cell_type": "code",
   "execution_count": 19,
   "metadata": {},
   "outputs": [
    {
     "name": "stderr",
     "output_type": "stream",
     "text": [
      ".\n",
      "----------------------------------------------------------------------\n",
      "Ran 1 test in 0.001s\n",
      "\n",
      "OK\n"
     ]
    }
   ],
   "source": [
    "# Exercise 8.2\n",
    "\n",
    "reload(helper)\n",
    "run(helper.HelperTest('test_merkle_root'))"
   ]
  },
  {
   "cell_type": "code",
   "execution_count": 20,
   "metadata": {},
   "outputs": [
    {
     "name": "stdout",
     "output_type": "stream",
     "text": [
      "654d6181e18e4ac4368383fdc5eead11bf138f9b7ac1e15334e4411b3c4797d9\n"
     ]
    }
   ],
   "source": [
    "# Block Merkle Root Example\n",
    "\n",
    "from helper import merkle_root\n",
    "\n",
    "tx_hex_hashes = [\n",
    "    '42f6f52f17620653dcc909e58bb352e0bd4bd1381e2955d19c00959a22122b2e',\n",
    "    '94c3af34b9667bf787e1c6a0a009201589755d01d02fe2877cc69b929d2418d4',\n",
    "    '959428d7c48113cb9149d0566bde3d46e98cf028053c522b8fa8f735241aa953',\n",
    "    'a9f27b99d5d108dede755710d4a1ffa2c74af70b4ca71726fa57d68454e609a2',\n",
    "    '62af110031e29de1efcad103b3ad4bec7bdcf6cb9c9f4afdd586981795516577',\n",
    "    '766900590ece194667e9da2984018057512887110bf54fe0aa800157aec796ba',\n",
    "    'e8270fb475763bc8d855cfe45ed98060988c1bdcad2ffc8364f783c98999a208',\n",
    "]\n",
    "current_level = [bytes.fromhex(x)[::-1] for x in tx_hex_hashes]\n",
    "print(merkle_root(current_level)[::-1].hex())"
   ]
  },
  {
   "cell_type": "markdown",
   "metadata": {},
   "source": [
    "### Exercise 9\n",
    "\n",
    "#### 9.1. Validate the merkle root for this block on Testnet:\n",
    "Block Hash:\n",
    "```\n",
    "0000000000000451fa80fcdb243b84c35eaae215a85a8faa880559e8239e6f20\n",
    "```\n",
    "\n",
    "Transaction Hashes:\n",
    "```\n",
    "42f6f52f17620653dcc909e58bb352e0bd4bd1381e2955d19c00959a22122b2e\n",
    "94c3af34b9667bf787e1c6a0a009201589755d01d02fe2877cc69b929d2418d4\n",
    "959428d7c48113cb9149d0566bde3d46e98cf028053c522b8fa8f735241aa953\n",
    "a9f27b99d5d108dede755710d4a1ffa2c74af70b4ca71726fa57d68454e609a2\n",
    "62af110031e29de1efcad103b3ad4bec7bdcf6cb9c9f4afdd586981795516577\n",
    "766900590ece194667e9da2984018057512887110bf54fe0aa800157aec796ba\n",
    "e8270fb475763bc8d855cfe45ed98060988c1bdcad2ffc8364f783c98999a208\n",
    "921b8cfd3e14bf41f028f0a3aa88c813d5039a2b1bceb12208535b0b43a5d09e\n",
    "15535864799652347cec66cba473f6d8291541238e58b2e03b046bc53cfe1321\n",
    "1c8af7c502971e67096456eac9cd5407aacf62190fc54188995666a30faf99f0\n",
    "3311f8acc57e8a3e9b68e2945fb4f53c07b0fa4668a7e5cda6255c21558c774d\n",
    "```\n",
    "\n",
    "#### 9.2. Make [this test](/edit/session7/block.py) pass.\n",
    "```\n",
    "block.py:BlockTest:test_validate_merkle_root\n",
    "```"
   ]
  },
  {
   "cell_type": "code",
   "execution_count": 21,
   "metadata": {},
   "outputs": [
    {
     "name": "stdout",
     "output_type": "stream",
     "text": [
      "True\n"
     ]
    }
   ],
   "source": [
    "# Exercise 9.1\n",
    "\n",
    "want = '4297fb95a0168b959d1469410c7527da5d6243d99699e7d041b7f3916ba93301'\n",
    "\n",
    "tx_hex_hashes = [\n",
    "    '42f6f52f17620653dcc909e58bb352e0bd4bd1381e2955d19c00959a22122b2e',\n",
    "    '94c3af34b9667bf787e1c6a0a009201589755d01d02fe2877cc69b929d2418d4',\n",
    "    '959428d7c48113cb9149d0566bde3d46e98cf028053c522b8fa8f735241aa953',\n",
    "    'a9f27b99d5d108dede755710d4a1ffa2c74af70b4ca71726fa57d68454e609a2',\n",
    "    '62af110031e29de1efcad103b3ad4bec7bdcf6cb9c9f4afdd586981795516577',\n",
    "    '766900590ece194667e9da2984018057512887110bf54fe0aa800157aec796ba',\n",
    "    'e8270fb475763bc8d855cfe45ed98060988c1bdcad2ffc8364f783c98999a208',\n",
    "    '921b8cfd3e14bf41f028f0a3aa88c813d5039a2b1bceb12208535b0b43a5d09e',\n",
    "    '15535864799652347cec66cba473f6d8291541238e58b2e03b046bc53cfe1321',\n",
    "    '1c8af7c502971e67096456eac9cd5407aacf62190fc54188995666a30faf99f0',\n",
    "    '3311f8acc57e8a3e9b68e2945fb4f53c07b0fa4668a7e5cda6255c21558c774d',\n",
    "]\n",
    "\n",
    "# bytes.fromhex and reverse ([::-1]) to get all the hashes in binary\n",
    "hashes = [bytes.fromhex(h)[::-1] for h in tx_hex_hashes]\n",
    "# get the merkle root\n",
    "root = merkle_root(hashes)\n",
    "# see if the reversed root is the same as the wanted root\n",
    "print(root[::-1].hex() == want)"
   ]
  },
  {
   "cell_type": "code",
   "execution_count": 22,
   "metadata": {},
   "outputs": [
    {
     "name": "stderr",
     "output_type": "stream",
     "text": [
      ".\n",
      "----------------------------------------------------------------------\n",
      "Ran 1 test in 0.001s\n",
      "\n",
      "OK\n"
     ]
    }
   ],
   "source": [
    "# Exercise 9.2\n",
    "\n",
    "reload(block)\n",
    "run(block.BlockTest('test_validate_merkle_root'))"
   ]
  },
  {
   "cell_type": "markdown",
   "metadata": {},
   "source": [
    "### Exercise 10\n",
    "\n",
    "#### 10.1. Validate the merkle root for this block on Testnet via network protocol:\n",
    "Block Hash:\n",
    "```\n",
    "0000000000044b01a9440b34f582fe171c7b8642fedd0ebfccf8fdf6a1810900\n",
    "```"
   ]
  },
  {
   "cell_type": "code",
   "execution_count": 23,
   "metadata": {},
   "outputs": [
    {
     "name": "stdout",
     "output_type": "stream",
     "text": [
      "627bf8053bd767ad72c6afcd2d91638311f9c7520905a634be13aa8853f7a446\n"
     ]
    }
   ],
   "source": [
    "# Exercise 10.1\n",
    "\n",
    "block_hex = '0000000000044b01a9440b34f582fe171c7b8642fedd0ebfccf8fdf6a1810900'\n",
    "block_hash = bytes.fromhex(block_hex)\n",
    "\n",
    "# connect to tbtc.programmingblockchain.com on testnet\n",
    "node = SimpleNode('tbtc.programmingblockchain.com', testnet=True)\n",
    "# handshake\n",
    "node.handshake()\n",
    "\n",
    "# create a GetDataMessage\n",
    "getdata = GetDataMessage()\n",
    "# add_data on the message (BLOCK_DATA_TYPE, block_hash)\n",
    "getdata.add_data(BLOCK_DATA_TYPE, block_hash)\n",
    "# send the getdata command\n",
    "node.send(getdata.command, getdata.serialize())\n",
    "\n",
    "# wait for the block command in response\n",
    "block_envelope = node.wait_for_commands([b'block'])\n",
    "# get the stream from the envelope\n",
    "stream = block_envelope.stream()\n",
    "# block message is block header first, so parse a Block\n",
    "b = Block.parse(stream)\n",
    "# check the proof of work\n",
    "if not b.check_pow():\n",
    "    raise RuntimeError('bad proof of work')\n",
    "# next the block message has the number of transactions so read_varint that\n",
    "num_txs = read_varint(stream)\n",
    "# initialize the tx_hashes list\n",
    "tx_hashes = []\n",
    "# loop through that number of times\n",
    "for _ in range(num_txs):\n",
    "    # parse the transaction\n",
    "    t = Tx.parse(stream)\n",
    "    # add the transaction hash to the tx_hashes list\n",
    "    tx_hashes.append(t.hash())\n",
    "\n",
    "# set the block's tx_hashes to the ones we've gathered\n",
    "b.tx_hashes = tx_hashes\n",
    "# validate the tx_hashes\n",
    "if not b.validate_merkle_root():\n",
    "    raise RuntimeError('bad merkle root')\n",
    "# print the merkle root hex\n",
    "print(b.merkle_root.hex())"
   ]
  },
  {
   "cell_type": "code",
   "execution_count": 24,
   "metadata": {},
   "outputs": [
    {
     "name": "stdout",
     "output_type": "stream",
     "text": [
      "[None]\n",
      "[None, None]\n",
      "[None, None, None, None]\n",
      "[None, None, None, None, None, None, None, None]\n",
      "[None, None, None, None, None, None, None, None, None, None, None, None, None, None, None, None]\n"
     ]
    }
   ],
   "source": [
    "# Merkle Tree Example\n",
    "\n",
    "total = 16\n",
    "\n",
    "max_depth = ceil(log(total, 2))\n",
    "merkle_tree = []\n",
    "for depth in range(max_depth + 1):\n",
    "    num_items = ceil(total / 2**(max_depth - depth))\n",
    "    level_hashes = [None] * num_items\n",
    "    merkle_tree.append(level_hashes)\n",
    "\n",
    "for level in merkle_tree:\n",
    "    print(level)"
   ]
  },
  {
   "cell_type": "code",
   "execution_count": 25,
   "metadata": {},
   "outputs": [
    {
     "name": "stdout",
     "output_type": "stream",
     "text": [
      "*597c4baf.*, \n",
      "6382df3f..., 87cf8fa3..., \n",
      "3ba6c080..., 8e894862..., 7ab01bb6..., 3df760ac..., \n",
      "272945ec..., 9a38d037..., 4a64abd9..., ec7c95e1..., 3b67006c..., 850683df..., d40d268b..., 8636b7a3..., \n",
      "9745f717..., 5573c8ed..., 82a02ecb..., 507ccae5..., a7a4aec2..., bb626766..., ea6d7ac1..., 45774386..., 76880292..., b1ae7f15..., 9b74f89f..., b3a92b5b..., b5c0b915..., c9d52c5c..., c555bc5f..., f9dbfafc..., \n",
      "\n"
     ]
    }
   ],
   "source": [
    "# Merkle Tree Populating and Navigating Example\n",
    "\n",
    "hex_hashes = [\n",
    "    \"9745f7173ef14ee4155722d1cbf13304339fd00d900b759c6f9d58579b5765fb\",\n",
    "    \"5573c8ede34936c29cdfdfe743f7f5fdfbd4f54ba0705259e62f39917065cb9b\",\n",
    "    \"82a02ecbb6623b4274dfcab82b336dc017a27136e08521091e443e62582e8f05\",\n",
    "    \"507ccae5ed9b340363a0e6d765af148be9cb1c8766ccc922f83e4ae681658308\",\n",
    "    \"a7a4aec28e7162e1e9ef33dfa30f0bc0526e6cf4b11a576f6c5de58593898330\",\n",
    "    \"bb6267664bd833fd9fc82582853ab144fece26b7a8a5bf328f8a059445b59add\",\n",
    "    \"ea6d7ac1ee77fbacee58fc717b990c4fcccf1b19af43103c090f601677fd8836\",\n",
    "    \"457743861de496c429912558a106b810b0507975a49773228aa788df40730d41\",\n",
    "    \"7688029288efc9e9a0011c960a6ed9e5466581abf3e3a6c26ee317461add619a\",\n",
    "    \"b1ae7f15836cb2286cdd4e2c37bf9bb7da0a2846d06867a429f654b2e7f383c9\",\n",
    "    \"9b74f89fa3f93e71ff2c241f32945d877281a6a50a6bf94adac002980aafe5ab\",\n",
    "    \"b3a92b5b255019bdaf754875633c2de9fec2ab03e6b8ce669d07cb5b18804638\",\n",
    "    \"b5c0b915312b9bdaedd2b86aa2d0f8feffc73a2d37668fd9010179261e25e263\",\n",
    "    \"c9d52c5cb1e557b92c84c52e7c4bfbce859408bedffc8a5560fd6e35e10b8800\",\n",
    "    \"c555bc5fc3bc096df0a0c9532f07640bfb76bfe4fc1ace214b8b228a1297a4c2\",\n",
    "    \"f9dbfafc3af3400954975da24eb325e326960a25b87fffe23eef3e7ed2fb610e\",\n",
    "]\n",
    "tree = MerkleTree(len(hex_hashes))\n",
    "tree.nodes[4] = [bytes.fromhex(h) for h in hex_hashes]\n",
    "tree.nodes[3] = merkle_parent_level(tree.nodes[4])\n",
    "tree.nodes[2] = merkle_parent_level(tree.nodes[3])\n",
    "tree.nodes[1] = merkle_parent_level(tree.nodes[2])\n",
    "tree.nodes[0] = merkle_parent_level(tree.nodes[1])\n",
    "print(tree)"
   ]
  },
  {
   "cell_type": "code",
   "execution_count": 26,
   "metadata": {},
   "outputs": [
    {
     "name": "stdout",
     "output_type": "stream",
     "text": [
      "597c4baf..., \n",
      "6382df3f..., 87cf8fa3..., \n",
      "3ba6c080..., 8e894862..., 7ab01bb6..., 3df760ac..., \n",
      "272945ec..., 9a38d037..., 4a64abd9..., ec7c95e1..., 3b67006c..., 850683df..., d40d268b..., 8636b7a3..., \n",
      "9745f717..., 5573c8ed..., 82a02ecb..., 507ccae5..., a7a4aec2..., bb626766..., ea6d7ac1..., 45774386..., 76880292..., b1ae7f15..., 9b74f89f..., b3a92b5b..., b5c0b915..., c9d52c5c..., c555bc5f..., f9dbfafc..., \n",
      "\n"
     ]
    }
   ],
   "source": [
    "# Merkle Tree Populating Example #2\n",
    "\n",
    "hex_hashes = [\n",
    "    \"9745f7173ef14ee4155722d1cbf13304339fd00d900b759c6f9d58579b5765fb\",\n",
    "    \"5573c8ede34936c29cdfdfe743f7f5fdfbd4f54ba0705259e62f39917065cb9b\",\n",
    "    \"82a02ecbb6623b4274dfcab82b336dc017a27136e08521091e443e62582e8f05\",\n",
    "    \"507ccae5ed9b340363a0e6d765af148be9cb1c8766ccc922f83e4ae681658308\",\n",
    "    \"a7a4aec28e7162e1e9ef33dfa30f0bc0526e6cf4b11a576f6c5de58593898330\",\n",
    "    \"bb6267664bd833fd9fc82582853ab144fece26b7a8a5bf328f8a059445b59add\",\n",
    "    \"ea6d7ac1ee77fbacee58fc717b990c4fcccf1b19af43103c090f601677fd8836\",\n",
    "    \"457743861de496c429912558a106b810b0507975a49773228aa788df40730d41\",\n",
    "    \"7688029288efc9e9a0011c960a6ed9e5466581abf3e3a6c26ee317461add619a\",\n",
    "    \"b1ae7f15836cb2286cdd4e2c37bf9bb7da0a2846d06867a429f654b2e7f383c9\",\n",
    "    \"9b74f89fa3f93e71ff2c241f32945d877281a6a50a6bf94adac002980aafe5ab\",\n",
    "    \"b3a92b5b255019bdaf754875633c2de9fec2ab03e6b8ce669d07cb5b18804638\",\n",
    "    \"b5c0b915312b9bdaedd2b86aa2d0f8feffc73a2d37668fd9010179261e25e263\",\n",
    "    \"c9d52c5cb1e557b92c84c52e7c4bfbce859408bedffc8a5560fd6e35e10b8800\",\n",
    "    \"c555bc5fc3bc096df0a0c9532f07640bfb76bfe4fc1ace214b8b228a1297a4c2\",\n",
    "    \"f9dbfafc3af3400954975da24eb325e326960a25b87fffe23eef3e7ed2fb610e\",\n",
    "]\n",
    "tree = MerkleTree(len(hex_hashes))\n",
    "tree.nodes[4] = [bytes.fromhex(h) for h in hex_hashes]\n",
    "while tree.root() is None:\n",
    "    if tree.is_leaf():\n",
    "        tree.up()\n",
    "    else:\n",
    "        left_hash = tree.get_left_node()\n",
    "        right_hash = tree.get_right_node()\n",
    "        if left_hash is None:\n",
    "            tree.left()\n",
    "        elif right_hash is None:\n",
    "            tree.right()\n",
    "        else:\n",
    "            tree.set_current_node(merkle_parent(left_hash, right_hash))\n",
    "            tree.up()\n",
    "print(tree)"
   ]
  },
  {
   "cell_type": "code",
   "execution_count": 27,
   "metadata": {},
   "outputs": [
    {
     "name": "stdout",
     "output_type": "stream",
     "text": [
      "dc87b7e3..., \n",
      "6382df3f..., 6440941e..., \n",
      "3ba6c080..., 8e894862..., 7ab01bb6..., 996be980..., \n",
      "272945ec..., 9a38d037..., 4a64abd9..., ec7c95e1..., 3b67006c..., 850683df..., d40d268b..., f542a085..., \n",
      "9745f717..., 5573c8ed..., 82a02ecb..., 507ccae5..., a7a4aec2..., bb626766..., ea6d7ac1..., 45774386..., 76880292..., b1ae7f15..., 9b74f89f..., b3a92b5b..., b5c0b915..., c9d52c5c..., c555bc5f..., \n",
      "\n"
     ]
    }
   ],
   "source": [
    "# Merkle Tree Populating Example #3\n",
    "\n",
    "hex_hashes = [\n",
    "    \"9745f7173ef14ee4155722d1cbf13304339fd00d900b759c6f9d58579b5765fb\",\n",
    "    \"5573c8ede34936c29cdfdfe743f7f5fdfbd4f54ba0705259e62f39917065cb9b\",\n",
    "    \"82a02ecbb6623b4274dfcab82b336dc017a27136e08521091e443e62582e8f05\",\n",
    "    \"507ccae5ed9b340363a0e6d765af148be9cb1c8766ccc922f83e4ae681658308\",\n",
    "    \"a7a4aec28e7162e1e9ef33dfa30f0bc0526e6cf4b11a576f6c5de58593898330\",\n",
    "    \"bb6267664bd833fd9fc82582853ab144fece26b7a8a5bf328f8a059445b59add\",\n",
    "    \"ea6d7ac1ee77fbacee58fc717b990c4fcccf1b19af43103c090f601677fd8836\",\n",
    "    \"457743861de496c429912558a106b810b0507975a49773228aa788df40730d41\",\n",
    "    \"7688029288efc9e9a0011c960a6ed9e5466581abf3e3a6c26ee317461add619a\",\n",
    "    \"b1ae7f15836cb2286cdd4e2c37bf9bb7da0a2846d06867a429f654b2e7f383c9\",\n",
    "    \"9b74f89fa3f93e71ff2c241f32945d877281a6a50a6bf94adac002980aafe5ab\",\n",
    "    \"b3a92b5b255019bdaf754875633c2de9fec2ab03e6b8ce669d07cb5b18804638\",\n",
    "    \"b5c0b915312b9bdaedd2b86aa2d0f8feffc73a2d37668fd9010179261e25e263\",\n",
    "    \"c9d52c5cb1e557b92c84c52e7c4bfbce859408bedffc8a5560fd6e35e10b8800\",\n",
    "    \"c555bc5fc3bc096df0a0c9532f07640bfb76bfe4fc1ace214b8b228a1297a4c2\",\n",
    "]\n",
    "tree = MerkleTree(len(hex_hashes))\n",
    "tree.nodes[4] = [bytes.fromhex(h) for h in hex_hashes]\n",
    "while tree.root() is None:\n",
    "    if tree.is_leaf():\n",
    "        tree.up()\n",
    "    else:\n",
    "        left_hash = tree.get_left_node()\n",
    "        if left_hash is None:\n",
    "            tree.left()\n",
    "        elif tree.right_exists():\n",
    "            right_hash = tree.get_right_node()\n",
    "            if right_hash is None:\n",
    "                tree.right()\n",
    "            else:\n",
    "                tree.set_current_node(merkle_parent(left_hash, right_hash))\n",
    "                tree.up()\n",
    "        else:\n",
    "            tree.set_current_node(merkle_parent(left_hash, left_hash))\n",
    "            tree.up()\n",
    "print(tree)"
   ]
  }
 ],
 "metadata": {
  "kernelspec": {
   "display_name": "Python 3",
   "language": "python",
   "name": "python3"
  },
  "language_info": {
   "codemirror_mode": {
    "name": "ipython",
    "version": 3
   },
   "file_extension": ".py",
   "mimetype": "text/x-python",
   "name": "python",
   "nbconvert_exporter": "python",
   "pygments_lexer": "ipython3",
   "version": "3.6.5"
  }
 },
 "nbformat": 4,
 "nbformat_minor": 2
}
