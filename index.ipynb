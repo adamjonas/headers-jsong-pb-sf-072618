{
 "cells": [
  {
   "cell_type": "markdown",
   "metadata": {},
   "source": [
    "# Block Headers\n",
    "\n",
    "## Test Driven Examples"
   ]
  },
  {
   "cell_type": "code",
   "execution_count": null,
   "metadata": {},
   "outputs": [],
   "source": [
    "# Exercise 3.1\n",
    "\n",
    "from io import BytesIO\n",
    "from network import GetHeadersMessage\n",
    "from helper import (\n",
    "    encode_varint,\n",
    "    int_to_little_endian,\n",
    "    little_endian_to_int\n",
    ")\n",
    "\n",
    "class GetHeadersMessage(GetHeadersMessage):\n",
    "\n",
    "    def serialize(self):\n",
    "        '''Serialize this message to send over the network'''\n",
    "        # protocol version is 4 bytes little-endian\n",
    "        result = int_to_little_endian(self.version, 4)\n",
    "        # number of hashes is a varint\n",
    "        result += encode_varint(self.num_hashes)\n",
    "        # start block is in little-endian\n",
    "        result += self.start_block[::-1]\n",
    "        # end block is also in little-endian\n",
    "        result += self.end_block[::-1]\n",
    "        return result"
   ]
  },
  {
   "cell_type": "code",
   "execution_count": null,
   "metadata": {},
   "outputs": [],
   "source": [
    "# Exercise 3.2\n",
    "\n",
    "from io import BytesIO\n",
    "from network import HeadersMessage\n",
    "from helper import read_varint\n",
    "from block import Block\n",
    "\n",
    "class HeadersMessage(HeadersMessage):\n",
    "\n",
    "    @classmethod\n",
    "    def parse(cls, stream):\n",
    "        # number of headers is in a varint\n",
    "        num_headers = read_varint(stream)\n",
    "        # initialize the blocks array\n",
    "        blocks = []\n",
    "        # loop through number of headers times\n",
    "        for _ in range(num_headers):\n",
    "            # add a block to the blocks array by parsing the stream\n",
    "            blocks.append(Block.parse(stream))\n",
    "            # read the next varint (num_txs)\n",
    "            num_txs = read_varint(stream)\n",
    "            # num_txs should be 0 or raise a RuntimeError\n",
    "            if num_txs != 0:\n",
    "                raise RuntimeError('number of txs not 0')\n",
    "        # return a class instance\n",
    "        return cls(blocks)"
   ]
  }
 ],
 "metadata": {
  "kernelspec": {
   "display_name": "Python 3",
   "language": "python",
   "name": "python3"
  },
  "language_info": {
   "codemirror_mode": {
    "name": "ipython",
    "version": 3
   },
   "file_extension": ".py",
   "mimetype": "text/x-python",
   "name": "python",
   "nbconvert_exporter": "python",
   "pygments_lexer": "ipython3",
   "version": "3.6.6"
  }
 },
 "nbformat": 4,
 "nbformat_minor": 2
}
